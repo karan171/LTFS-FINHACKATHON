{
 "cells": [
  {
   "cell_type": "code",
   "execution_count": null,
   "metadata": {},
   "outputs": [],
   "source": [
    "import pandas as pd\n",
    "import numpy as np\n",
    "import pickle\n",
    "pd.set_option('display.max_columns',30)\n",
    "import lightgbm as lgb\n",
    "from sklearn.model_selection import train_test_split\n",
    "from collections import Counter, defaultdict\n",
    "import random\n",
    "from sklearn.metrics import f1_score,roc_auc_score\n",
    "from tqdm import tqdm\n",
    "from sklearn.preprocessing import LabelEncoder,MultiLabelBinarizer\n",
    "from sklearn.model_selection import StratifiedKFold,GroupKFold\n",
    "from rfpimp import *\n",
    "from xgboost import XGBClassifier\n",
    "import networkx as nx #create and store graph\n",
    "from node2vec import Node2Vec\n",
    "from catboost import CatBoostClassifier"
   ]
  },
  {
   "cell_type": "code",
   "execution_count": null,
   "metadata": {},
   "outputs": [],
   "source": [
    "with open('train_demo.pkl','rb') as f:\n",
    "    df_train_demo = pickle.load(f)\n",
    "with open('train_hist.pkl','rb') as f:\n",
    "    df_train_hist = pickle.load(f)"
   ]
  },
  {
   "cell_type": "code",
   "execution_count": null,
   "metadata": {},
   "outputs": [],
   "source": [
    "with open('test_demo.pkl','rb') as f:\n",
    "    df_test_demo = pickle.load(f)\n",
    "with open('test_hist.pkl','rb') as f:\n",
    "    df_test_hist = pickle.load(f)"
   ]
  },
  {
   "cell_type": "code",
   "execution_count": null,
   "metadata": {},
   "outputs": [],
   "source": [
    "mlb = MultiLabelBinarizer()"
   ]
  },
  {
   "cell_type": "code",
   "execution_count": null,
   "metadata": {},
   "outputs": [],
   "source": [
    "DisbursalDate=df_train_demo.groupby(['ID'],as_index=False)['DisbursalDate'].min()\n",
    "train_bureau=df_train_hist.merge(DisbursalDate,on=['ID'],how='left')\n",
    "train_bureau_updated=train_bureau[train_bureau['DISBURSED-DT'] <= train_bureau['DisbursalDate']]\n",
    "DisbursalDate=df_test_demo.groupby(['ID'],as_index=False)['DisbursalDate'].min()\n",
    "test_bureau=df_test_hist.merge(DisbursalDate,on=['ID'],how='left')"
   ]
  },
  {
   "cell_type": "code",
   "execution_count": null,
   "metadata": {},
   "outputs": [],
   "source": [
    "train_bureau['train_or_test']='train'\n",
    "test_bureau['train_or_test']='test'\n",
    "df_bureau=train_bureau.append(test_bureau)"
   ]
  },
  {
   "cell_type": "code",
   "execution_count": null,
   "metadata": {},
   "outputs": [],
   "source": [
    "df_bureau['Time_Difference']=(df_bureau['DISBURSED-DT']-df_bureau['DisbursalDate']).dt.days\n",
    "df_bureau['Time_Difference']=df_bureau['Time_Difference']/30.71\n",
    "df_bureau1=df_bureau[df_bureau['Time_Difference']>=12]\n",
    "df_bureau2=df_bureau[df_bureau['Time_Difference']<=0]"
   ]
  },
  {
   "cell_type": "code",
   "execution_count": null,
   "metadata": {},
   "outputs": [],
   "source": [
    "#Train\n",
    "train_with_future=df_train_demo[df_train_demo['ID'].isin(df_bureau1['ID'].unique())]\n",
    "train_bureau_with_future=train_bureau[train_bureau['ID'].isin(df_bureau1['ID'].unique())]\n",
    "train_without_future=df_train_demo.copy()\n",
    "train_bureau_without_future=train_bureau_updated.copy()"
   ]
  },
  {
   "cell_type": "code",
   "execution_count": null,
   "metadata": {},
   "outputs": [],
   "source": [
    "#Test\n",
    "test_with_future=df_test_demo[df_test_demo['ID'].isin(df_bureau1['ID'].unique())]\n",
    "test_bureau_with_future=test_bureau[test_bureau['ID'].isin(df_bureau1['ID'].unique())]\n",
    "\n",
    "test_without_future=df_test_demo[df_test_demo['ID'].isin(df_bureau2['ID'].unique())]\n",
    "test_bureau_without_future=test_bureau[test_bureau['ID'].isin(df_bureau2['ID'].unique())]\n",
    "test_without_future=df_test_demo[~df_test_demo['ID'].isin(df_bureau1['ID'].unique())]\n",
    "test_bureau_without_future=test_bureau[~test_bureau['ID'].isin(df_bureau1['ID'].unique())]"
   ]
  },
  {
   "cell_type": "code",
   "execution_count": null,
   "metadata": {},
   "outputs": [],
   "source": [
    "df_test_demo[~df_test_demo['ID'].isin(test_with_future.append(test_without_future)['ID'].unique())]"
   ]
  },
  {
   "cell_type": "code",
   "execution_count": null,
   "metadata": {},
   "outputs": [],
   "source": [
    "freq_dict = {'Half Yearly': 4, 'Monthly': 2, 'Quatrly': 3, 'BI-Monthly': 1}\n",
    "instl_dict = {'Arrear': 0, 'Advance': 1}\n",
    "loan_dict = {'Closed': 0, 'Active': 1}\n",
    "top_up_dict = {'No Top-up Service': 0,\n",
    " ' > 48 Months': 6,\n",
    " '36-48 Months': 5,\n",
    " '24-30 Months': 3,\n",
    " '30-36 Months': 4,\n",
    " '18-24 Months': 2,\n",
    " '12-18 Months': 1}"
   ]
  },
  {
   "cell_type": "code",
   "execution_count": null,
   "metadata": {},
   "outputs": [],
   "source": [
    "df_final = train_with_future.append(test_with_future)\n",
    "df_final_hist = train_bureau_with_future.append(test_bureau_with_future)"
   ]
  },
  {
   "cell_type": "code",
   "execution_count": null,
   "metadata": {},
   "outputs": [],
   "source": [
    "df_final.shape,df_final_hist.shape"
   ]
  },
  {
   "cell_type": "code",
   "execution_count": null,
   "metadata": {
    "scrolled": true
   },
   "outputs": [],
   "source": [
    "df_final_hist[df_final_hist['ID'] == 3].sort_values(by = ['DISBURSED-DT'])"
   ]
  },
  {
   "cell_type": "code",
   "execution_count": null,
   "metadata": {},
   "outputs": [],
   "source": [
    "df_final[df_final['LoanStatus'] == 'Active']['Top-up Month'].value_counts()"
   ]
  },
  {
   "cell_type": "code",
   "execution_count": null,
   "metadata": {},
   "outputs": [],
   "source": [
    "df_final_hist[df_final_hist['ID'] == 3].sort_values(by='DISBURSED-DT')"
   ]
  },
  {
   "cell_type": "code",
   "execution_count": null,
   "metadata": {},
   "outputs": [],
   "source": [
    "df_final_hist['ACCOUNT-STATUS'].value_counts()"
   ]
  },
  {
   "cell_type": "code",
   "execution_count": null,
   "metadata": {},
   "outputs": [],
   "source": [
    "df_final_hist['ACCOUNT-STATUS'].replace({\n",
    "    'Delinquent':'BadLoan',\n",
    "    'Suit Filed':'BadLoan',\n",
    "    'Settled':'Closed',\n",
    "    'SUIT FILED (WILFUL DEFAULT)':'BadLoan',\n",
    "    'WILFUL DEFAULT':'BadLoan',\n",
    "    'Cancelled':'BadLoan',\n",
    "    'Restructured':'Active'},inplace=True)"
   ]
  },
  {
   "cell_type": "code",
   "execution_count": null,
   "metadata": {},
   "outputs": [],
   "source": [
    "cols_encode = ['SEX','City','Area','BranchID','SupplierID','City','ZiPCODE']\n",
    "for i in cols_encode:\n",
    "    le = LabelEncoder()\n",
    "    df_final[i] = df_final[i].astype(str)\n",
    "    df_final[i] = df_final[i].fillna('NaN')\n",
    "    le.fit(df_final[i])\n",
    "    df_final[i] = le.transform(df_final[i])"
   ]
  },
  {
   "cell_type": "code",
   "execution_count": null,
   "metadata": {},
   "outputs": [],
   "source": [
    "df_final['Frequency'] = df_final['Frequency'].map(freq_dict)\n",
    "df_final['InstlmentMode'] = df_final['InstlmentMode'].map(instl_dict)\n",
    "df_final['LoanStatus'] = df_final['LoanStatus'].map(loan_dict)\n",
    "df_final['Top-up Month'] = df_final['Top-up Month'].map(top_up_dict)"
   ]
  },
  {
   "cell_type": "code",
   "execution_count": null,
   "metadata": {},
   "outputs": [],
   "source": [
    "def evaluate_macroF1_lgb(truth, predictions):  \n",
    "    # this follows the discussion in https://github.com/Microsoft/LightGBM/issues/1483\n",
    "    pred_labels = predictions.reshape(len(np.unique(truth)),-1).argmax(axis=0)\n",
    "    f1 = f1_score(truth, pred_labels, average='macro')\n",
    "    return ('macroF1', f1, True) "
   ]
  },
  {
   "cell_type": "code",
   "execution_count": null,
   "metadata": {},
   "outputs": [],
   "source": [
    "df_final['Days_to_mat'] = (df_final['MaturityDAte'] - df_final['DisbursalDate']).dt.days\n",
    "df_final['Asset_min_Dis'] = df_final['AssetCost'] - df_final['DisbursalAmount']\n",
    "df_final['Perce_EMI_Asset'] = df_final['AssetCost'] / df_final['EMI']\n",
    "df_final['Perce_EMI_Dis'] = df_final['DisbursalAmount'] / df_final['EMI']\n",
    "df_final['Money_Paid_Per_Month'] = df_final['DisbursalAmount']/df_final['Tenure']\n",
    "df_final['Per_EMI_Monthly_income'] = df_final['MonthlyIncome']/df_final['EMI']\n",
    "df_final['FOIR'] = (df_final['EMI']/df_final['MonthlyIncome'])*100"
   ]
  },
  {
   "cell_type": "code",
   "execution_count": null,
   "metadata": {},
   "outputs": [],
   "source": [
    "df_final = pd.get_dummies(df_final,columns=['ManufacturerID','State','PaymentMode'])"
   ]
  },
  {
   "cell_type": "code",
   "execution_count": null,
   "metadata": {},
   "outputs": [],
   "source": [
    "def get_quarter(date):\n",
    "    if date.month >= 1 and date.month <= 3:\n",
    "        return 4\n",
    "    if date.month >= 4 and date.month <= 6:\n",
    "        return 1\n",
    "    if date.month >= 7 and date.month <= 9:\n",
    "        return 2\n",
    "    if date.month >= 10 and date.month <= 12:\n",
    "        return 3\n",
    "    \n",
    "def is_quarter_start(date):\n",
    "    if date.month == 1 or date.month == 4 or date.month == 7 or date.month == 10:\n",
    "        return 1\n",
    "    else:\n",
    "        return 0\n",
    "    \n",
    "def is_quarter_end(date):\n",
    "    if date.month == 3 or date.month == 6 or date.month == 9 or date.month == 12:\n",
    "        return 1\n",
    "    else:\n",
    "        return 0\n",
    "\n",
    "def is_month(date,is_start=False):\n",
    "    if is_start == False:\n",
    "        if date.day >= 25:\n",
    "            return 1\n",
    "        else:\n",
    "            return 0\n",
    "    if is_start == True:\n",
    "        if date.day <=5:\n",
    "            return 1\n",
    "        else:\n",
    "            return 0"
   ]
  },
  {
   "cell_type": "code",
   "execution_count": null,
   "metadata": {},
   "outputs": [],
   "source": [
    "dates = ['DisbursalDate','MaturityDAte','AuthDate']\n",
    "for i in dates:\n",
    "    df_final[i + '_year'] = df_final[i].apply(lambda x: x.year)\n",
    "    df_final[i + '_month'] = df_final[i].apply(lambda x: x.month)\n",
    "    df_final[i + '_day'] = df_final[i].apply(lambda x: x.day)\n",
    "    df_final[i + '_dayofweek'] = df_final[i].apply(lambda x: x.dayofweek)\n",
    "    df_final[i + '_quarter'] = df_final[i].apply(lambda x:get_quarter(x))\n",
    "    df_final[i + '_is_quarter_end'] = df_final[i].apply(lambda x:is_quarter_end(x))\n",
    "    df_final[i + '_is_quarter_start'] = df_final[i].apply(lambda x: is_quarter_start(x))\n",
    "    df_final[i + '_is_month_start'] = df_final[i].apply(lambda x:is_month(x,is_start=True))\n",
    "    df_final[i + '_is_month_false'] = df_final[i].apply(lambda x:is_month(x,is_start=False))"
   ]
  },
  {
   "cell_type": "code",
   "execution_count": null,
   "metadata": {},
   "outputs": [],
   "source": [
    "df_final_hist[df_final_hist['ID'] == 123].sort_values(by='DISBURSED-DT')"
   ]
  },
  {
   "cell_type": "code",
   "execution_count": null,
   "metadata": {},
   "outputs": [],
   "source": [
    "df_final['DisbursalDate_year']"
   ]
  },
  {
   "cell_type": "code",
   "execution_count": null,
   "metadata": {},
   "outputs": [],
   "source": [
    "# df_final[['DisbursalDate_year','Top-up Month']].sort_values(by='DisbursalDate_year').head(50)"
   ]
  },
  {
   "cell_type": "code",
   "execution_count": null,
   "metadata": {},
   "outputs": [],
   "source": []
  },
  {
   "cell_type": "code",
   "execution_count": null,
   "metadata": {},
   "outputs": [],
   "source": [
    "df_final_hist.shape"
   ]
  },
  {
   "cell_type": "code",
   "execution_count": null,
   "metadata": {},
   "outputs": [],
   "source": [
    "df_final_hist['TENURE'].fillna(0,inplace=True)\n",
    "df_final_hist = df_final_hist[df_final_hist['DisbursalDate'].notnull()]\n",
    "df_final_hist.drop_duplicates(inplace=True)\n",
    "df_final_hist.reset_index(inplace=True)"
   ]
  },
  {
   "cell_type": "code",
   "execution_count": null,
   "metadata": {},
   "outputs": [],
   "source": [
    "dates = ['DISBURSED-DT']\n",
    "for i in dates:\n",
    "    df_final_hist[i + '_year'] = df_final_hist[i].apply(lambda x: x.year)\n",
    "    df_final_hist[i + '_month'] = df_final_hist[i].apply(lambda x: x.month)\n",
    "    df_final_hist[i + '_day'] =df_final_hist[i].apply(lambda x: x.day)\n",
    "    df_final_hist[i + '_dayofweek'] = df_final_hist[i].apply(lambda x: x.dayofweek)\n",
    "    df_final_hist[i + '_quarter'] = df_final_hist[i].apply(lambda x:get_quarter(x))\n",
    "    df_final_hist[i + '_is_quarter_end'] = df_final_hist[i].apply(lambda x:is_quarter_end(x))\n",
    "    df_final_hist[i + '_is_quarter_start'] = df_final_hist[i].apply(lambda x: is_quarter_start(x))\n",
    "    df_final_hist[i + '_is_month_start'] = df_final_hist[i].apply(lambda x:is_month(x,is_start=True))\n",
    "    df_final_hist[i + '_is_month_false'] = df_final_hist[i].apply(lambda x:is_month(x,is_start=False))"
   ]
  },
  {
   "cell_type": "code",
   "execution_count": null,
   "metadata": {},
   "outputs": [],
   "source": [
    "df_final_hist = df_final_hist.sort_values(by=['ID','DISBURSED-DT'])"
   ]
  },
  {
   "cell_type": "code",
   "execution_count": null,
   "metadata": {
    "scrolled": true
   },
   "outputs": [],
   "source": [
    "df_final_hist"
   ]
  },
  {
   "cell_type": "code",
   "execution_count": null,
   "metadata": {},
   "outputs": [],
   "source": [
    "df_final_hist.reset_index(inplace=True,drop=True)"
   ]
  },
  {
   "cell_type": "code",
   "execution_count": null,
   "metadata": {},
   "outputs": [],
   "source": [
    "list_cols = ['DISBURSED-AMT/HIGH CREDIT','CURRENT-BAL','CREDIT-LIMIT/SANC AMT','OVERDUE-AMT']\n",
    "for i in list_cols:\n",
    "    df_final_hist[i] = df_final_hist[i].fillna('0')\n",
    "    df_final_hist[i] = df_final_hist[i].apply(lambda x:eval(''.join(x.split(','))))"
   ]
  },
  {
   "cell_type": "code",
   "execution_count": null,
   "metadata": {},
   "outputs": [],
   "source": [
    "df_final_hist['INSTALLMENT-AMT'] = df_final_hist['INSTALLMENT-AMT'].fillna('0')\n",
    "df_final_hist['INSTALLMENT-AMT'] = df_final_hist['INSTALLMENT-AMT'].apply(lambda x:eval(''.join(x.split('/')[0].split(','))))"
   ]
  },
  {
   "cell_type": "code",
   "execution_count": null,
   "metadata": {},
   "outputs": [],
   "source": [
    "def payment_date_diff(dis,close,last_payment):\n",
    "    if pd.isna(close) == False and (close.year >= 2010 and close.year <=2020):\n",
    "        return (close - dis).days\n",
    "    elif pd.isna(close) == True and (last_payment.year >= 2010 and last_payment.year <=2020):\n",
    "        return (last_payment - dis).days\n",
    "    else:\n",
    "        return 0\n",
    "                                    \n",
    "df_final_hist['Payment_date_diff'] = df_final_hist.apply(lambda x:payment_date_diff(x['DisbursalDate'],x['CLOSE-DT'],x['LAST-PAYMENT-DATE']),axis=1)"
   ]
  },
  {
   "cell_type": "code",
   "execution_count": null,
   "metadata": {},
   "outputs": [],
   "source": [
    "df_final_hist['SELF-INDICATOR_ACCT'] = df_final_hist['SELF-INDICATOR'].astype(str) + '_' + df_final_hist['ACCT-TYPE'].astype(str)\n",
    "df_final_hist['SELF-INDICATOR_CONTRI'] = df_final_hist['SELF-INDICATOR'].astype(str) + '_' + df_final_hist['CONTRIBUTOR-TYPE'].astype(str)"
   ]
  },
  {
   "cell_type": "code",
   "execution_count": null,
   "metadata": {},
   "outputs": [],
   "source": [
    "df_final_hist['Report_Dis_sub'] = (df_final_hist['DATE-REPORTED'] - df_final_hist['DisbursalDate']).dt.days"
   ]
  },
  {
   "cell_type": "code",
   "execution_count": null,
   "metadata": {
    "scrolled": true
   },
   "outputs": [],
   "source": [
    "df_final_hist = df_final_hist.sort_values(by=['DISBURSED-DT','ID'])"
   ]
  },
  {
   "cell_type": "code",
   "execution_count": null,
   "metadata": {},
   "outputs": [],
   "source": [
    "df_final_hist['DISBURSED-DT'] = df_final_hist['DISBURSED-DT'].astype(str)"
   ]
  },
  {
   "cell_type": "code",
   "execution_count": null,
   "metadata": {},
   "outputs": [],
   "source": [
    "temp = df_final_hist.sort_values(by=['DISBURSED-DT','ID']).groupby('ID').agg({'ID':['count'],\n",
    "    'MATCH-TYPE':['nunique'],\n",
    "    'ACCT-TYPE':['nunique',','.join],\n",
    "    'OWNERSHIP-IND':['nunique'],\n",
    "    'CONTRIBUTOR-TYPE':['nunique',','.join],\n",
    "    'ACCOUNT-STATUS':['nunique'],\n",
    "    'DISBURSED-AMT/HIGH CREDIT':['min','max','sum','mean','std'],\n",
    "    'CURRENT-BAL':['min','max','sum','mean','std'],\n",
    "    'CREDIT-LIMIT/SANC AMT':['min','max','sum','mean','std'],\n",
    "    'OVERDUE-AMT':['min','max','sum','mean','std'],\n",
    "    'WRITE-OFF-AMT':['min','max','sum','mean','std'],\n",
    "    'Payment_date_diff':['min','max','sum','mean','std'],\n",
    "    'INSTALLMENT-FREQUENCY':['nunique'],\n",
    "    'SELF-INDICATOR_ACCT':['nunique',','.join],\n",
    "    'TENURE':['min','max','sum','mean','std'],\n",
    "    'Report_Dis_sub':['min','max','sum','mean','std'],\n",
    "    'SELF-INDICATOR_CONTRI':['nunique',','.join],\n",
    "    'DISBURSED-DT':[','.join],                                                                                                                                       \n",
    "})\n",
    "temp.columns = ['_ID_'.join(x) for x in temp.columns]\n",
    "temp.reset_index(inplace=True)\n",
    "temp['DisbursalDate_ID_join'] = temp['DISBURSED-DT_ID_join'].apply(lambda x:pd.to_datetime(x.split(',')[-1]))\n",
    "df_final = pd.merge(df_final,temp,on='ID')"
   ]
  },
  {
   "cell_type": "code",
   "execution_count": null,
   "metadata": {},
   "outputs": [],
   "source": [
    "# agg_func = {\n",
    "#     'next_1_year':['min','max','std'],\n",
    "#     'next_2_year':['min','max','std'],\n",
    "#     'next_1_day':['mean','std'],\n",
    "#     'next_2_day':['mean','std'],\n",
    "#     'next_1_month':['mean','std'],\n",
    "#     'next_2_month':['mean','std'],}\n",
    "# temp = df_final_hist.sort_values(by=['DISBURSED-DT','ID']).groupby('ID').agg(agg_func)\n",
    "# temp.columns = ['_ID_'.join(x) for x in temp.columns]\n",
    "# temp.reset_index(inplace=True)\n",
    "# df_final = pd.merge(df_final,temp,on='ID')"
   ]
  },
  {
   "cell_type": "code",
   "execution_count": null,
   "metadata": {},
   "outputs": [],
   "source": [
    "# temp"
   ]
  },
  {
   "cell_type": "code",
   "execution_count": null,
   "metadata": {},
   "outputs": [],
   "source": [
    "df_final['Recency'] = (df_final['DisbursalDate_ID_join'] - df_final['DisbursalDate']).dt.days"
   ]
  },
  {
   "cell_type": "code",
   "execution_count": null,
   "metadata": {},
   "outputs": [],
   "source": [
    "cols_binarize = ['ACCT-TYPE_ID_join','CONTRIBUTOR-TYPE_ID_join','SELF-INDICATOR_ACCT_ID_join','SELF-INDICATOR_CONTRI_ID_join']\n",
    "for i in cols_binarize:\n",
    "    print(i)\n",
    "    df_final[i] = df_final[i].fillna('NaN')\n",
    "    df_final[i] = df_final[i].apply(lambda x:x.split(','))\n",
    "    df_final = df_final.join(pd.DataFrame(mlb.fit_transform(df_final.pop(i)),columns=mlb.classes_,index=df_final.index))"
   ]
  },
  {
   "cell_type": "code",
   "execution_count": null,
   "metadata": {},
   "outputs": [],
   "source": [
    "df_final_hist = df_final_hist.sort_values(by=['ID','DisbursalDate'])"
   ]
  },
  {
   "cell_type": "code",
   "execution_count": null,
   "metadata": {},
   "outputs": [],
   "source": [
    "df_final_hist.reset_index(inplace=True,drop=True)"
   ]
  },
  {
   "cell_type": "code",
   "execution_count": null,
   "metadata": {},
   "outputs": [],
   "source": [
    "df_final_hist['DISBURSED-DT'] = pd.to_datetime(df_final_hist['DISBURSED-DT'])"
   ]
  },
  {
   "cell_type": "code",
   "execution_count": null,
   "metadata": {},
   "outputs": [],
   "source": [
    "def approx_dates_top_up(demo,hist):\n",
    "    demo.reset_index(inplace=True,drop=True)\n",
    "    id_cust = demo['ID'][0]\n",
    "    temp = hist[hist['ID'] == id_cust]\n",
    "    temp.reset_index(inplace=True,drop=True)\n",
    "    ref_row_idx = None\n",
    "    for index, row in temp.iterrows():\n",
    "        if demo['DisbursalDate'][0] == row['DISBURSED-DT']:\n",
    "            ref_row_idx = index\n",
    "    if ref_row_idx != None:\n",
    "        row_temp = temp.iloc[ref_row_idx]\n",
    "        row_act_type = row_temp['ACCT-TYPE']\n",
    "        row_date = row_temp['DISBURSED-DT']\n",
    "        top_up_days = 0\n",
    "        for index, row in temp.iterrows():\n",
    "            if (row['ACCT-TYPE'] == row_act_type and row['DISBURSED-DT'] > row_date) and row['SELF-INDICATOR'] == True:\n",
    "                top_up_days = (row['DISBURSED-DT'] - row_date).days\n",
    "            else:\n",
    "                zero_top_up = 0\n",
    "        return top_up_days,zero_top_up\n",
    "    else:\n",
    "        top_up_days = np.nan\n",
    "        zero_top_up = np.nan\n",
    "        return top_up_days,zero_top_up"
   ]
  },
  {
   "cell_type": "code",
   "execution_count": null,
   "metadata": {},
   "outputs": [],
   "source": [
    "def foir(demo,hist):\n",
    "    demo.reset_index(inplace=True,drop=True)\n",
    "    id_cust = demo['ID'][0]\n",
    "    temp = hist[hist['ID'] == id_cust]\n",
    "    temp.reset_index(inplace=True,drop=True)\n",
    "    ref_row_idx = None\n",
    "    for index, row in temp.iterrows():\n",
    "        if demo['DisbursalDate'][0] == row['DISBURSED-DT']:\n",
    "            ref_row_idx = index\n",
    "    if ref_row_idx != None:\n",
    "        row_temp = temp.iloc[ref_row_idx]\n",
    "        row_date = row_temp['DISBURSED-DT']\n",
    "        emi = []\n",
    "        for index, row in temp.iterrows():\n",
    "            if (row['DISBURSED-DT'] > row_date and row['ACCOUNT-STATUS'] == 'Active'):\n",
    "                emi.append(row['INSTALLMENT-AMT'])\n",
    "        return sum(emi)\n",
    "    else:\n",
    "        emi = []\n",
    "        for index, row in temp.iterrows():\n",
    "            if (demo['DisbursalDate'][0] < row['DISBURSED-DT'] and row['ACCOUNT-STATUS'] == 'Active'):\n",
    "                emi.append(row['INSTALLMENT-AMT'])\n",
    "        return sum(emi)\n",
    "                "
   ]
  },
  {
   "cell_type": "code",
   "execution_count": null,
   "metadata": {},
   "outputs": [],
   "source": [
    "def cltv(demo,hist):\n",
    "    demo.reset_index(inplace=True,drop=True)\n",
    "    id_cust = demo['ID'][0]\n",
    "    temp = hist[hist['ID'] == id_cust]\n",
    "    temp.reset_index(inplace=True,drop=True)\n",
    "    ref_row_idx = None\n",
    "    for index, row in temp.iterrows():\n",
    "        if demo['DisbursalDate'][0] == row['DISBURSED-DT']:\n",
    "            ref_row_idx = index\n",
    "    if ref_row_idx != None:\n",
    "        row_temp = temp.iloc[ref_row_idx]\n",
    "        row_date = row_temp['DISBURSED-DT']\n",
    "        total_amount_disbursed = []\n",
    "        for index, row in temp.iterrows():\n",
    "            if (row['DISBURSED-DT'] > row_date and row['ACCOUNT-STATUS'] == 'Active'):\n",
    "                total_amount_disbursed.append(row['DISBURSED-AMT/HIGH CREDIT'])\n",
    "        return sum(total_amount_disbursed)\n",
    "    else:\n",
    "        total_amount_disbursed = []\n",
    "        for index, row in temp.iterrows():\n",
    "            if (demo['DisbursalDate'][0] < row['DISBURSED-DT'] and row['ACCOUNT-STATUS'] == 'Active'):\n",
    "                total_amount_disbursed.append(row['DISBURSED-AMT/HIGH CREDIT'])\n",
    "        return sum(total_amount_disbursed)"
   ]
  },
  {
   "cell_type": "code",
   "execution_count": null,
   "metadata": {},
   "outputs": [],
   "source": [
    "def current_bal(demo,hist):\n",
    "    demo.reset_index(inplace=True,drop=True)\n",
    "    id_cust = demo['ID'][0]\n",
    "    temp = hist[hist['ID'] == id_cust]\n",
    "    temp.reset_index(inplace=True,drop=True)\n",
    "    ref_row_idx = None\n",
    "    for index, row in temp.iterrows():\n",
    "        if demo['DisbursalDate'][0] == row['DISBURSED-DT']:\n",
    "            ref_row_idx = index\n",
    "    if ref_row_idx != None:\n",
    "        row_temp = temp.iloc[ref_row_idx]\n",
    "        row_date = row_temp['DISBURSED-DT']\n",
    "        total_amount_disbursed = []\n",
    "        for index, row in temp.iterrows():\n",
    "            if (row['DISBURSED-DT'] > row_date and row['ACCOUNT-STATUS'] == 'Active'):\n",
    "                total_amount_disbursed.append(row['CURRENT-BAL'])\n",
    "        return sum(total_amount_disbursed)\n",
    "    else:\n",
    "        total_amount_disbursed = []\n",
    "        for index, row in temp.iterrows():\n",
    "            if (demo['DisbursalDate'][0] < row['DISBURSED-DT'] and row['ACCOUNT-STATUS'] == 'Active'):\n",
    "                total_amount_disbursed.append(row['CURRENT-BAL'])\n",
    "        return  sum(total_amount_disbursed)\n",
    "        "
   ]
  },
  {
   "cell_type": "code",
   "execution_count": null,
   "metadata": {},
   "outputs": [],
   "source": [
    "def check_accs_open_closed(demo,hist):\n",
    "    demo.reset_index(inplace=True,drop=True)\n",
    "    id_cust = demo['ID'][0]\n",
    "    temp = hist[hist['ID'] == id_cust]\n",
    "    temp.reset_index(inplace=True,drop=True)\n",
    "    ref_row_idx = None\n",
    "    for index, row in temp.iterrows():\n",
    "        if demo['DisbursalDate'][0] == row['DISBURSED-DT']:\n",
    "            ref_row_idx = index\n",
    "    if ref_row_idx != None:\n",
    "        row_temp = temp.iloc[ref_row_idx]\n",
    "        row_date = row_temp['DISBURSED-DT']\n",
    "        accs_closed = []\n",
    "        accs_open = []\n",
    "        accs_other = []\n",
    "        for index, row in temp.iterrows():\n",
    "            if row['DISBURSED-DT'] > row_date:\n",
    "                if row['ACCOUNT-STATUS'] == 'Closed':\n",
    "                    accs_closed.append(1)\n",
    "                elif row['ACCOUNT-STATUS'] == 'Active':\n",
    "                    accs_open.append(1)\n",
    "                else:\n",
    "                    accs_other.append(1)\n",
    "        return sum(accs_closed),sum(accs_open),sum(accs_other)\n",
    "    else:\n",
    "        accs_closed = []\n",
    "        accs_open = []\n",
    "        accs_other = []\n",
    "        for index, row in temp.iterrows():\n",
    "            if demo['DisbursalDate'][0] < row['DISBURSED-DT']:\n",
    "                if row['ACCOUNT-STATUS'] == 'Closed':\n",
    "                    accs_closed.append(1)\n",
    "                elif row['ACCOUNT-STATUS'] == 'Active':\n",
    "                    accs_open.append(1)\n",
    "                else:\n",
    "                    accs_other.append(1)\n",
    "        return sum(accs_closed),sum(accs_open),sum(accs_other)"
   ]
  },
  {
   "cell_type": "code",
   "execution_count": null,
   "metadata": {},
   "outputs": [],
   "source": [
    "# final_dict = {}\n",
    "# for index,row in tqdm(df_final.iterrows()):\n",
    "#     test_demo = df_final[df_final['ID'] == row['ID']]\n",
    "#     test_hist=df_final_hist[df_final_hist['ID'] == row['ID']]\n",
    "#     top_up_days,zero_top_up = approx_dates_top_up(test_demo,test_hist)\n",
    "#     if top_up_days !=0:\n",
    "#         final_dict[row['ID']] = top_up_days\n",
    "#     else:\n",
    "#         final_dict[row['ID']] = zero_top_up"
   ]
  },
  {
   "cell_type": "code",
   "execution_count": null,
   "metadata": {},
   "outputs": [],
   "source": [
    "# final_dict_foir = {}\n",
    "# for index,row in tqdm(df_final.iterrows()):\n",
    "#     test_demo = df_final[df_final['ID'] == row['ID']]\n",
    "#     test_hist=df_final_hist[df_final_hist['ID'] == row['ID']]\n",
    "#     emi = foir(test_demo,test_hist)\n",
    "#     if emi !=0:\n",
    "#         final_dict_foir[row['ID']] = emi \n",
    "#     else:\n",
    "#         final_dict_foir[row['ID']] = -9999"
   ]
  },
  {
   "cell_type": "code",
   "execution_count": null,
   "metadata": {},
   "outputs": [],
   "source": [
    "# final_dict_dis = {}\n",
    "# for index,row in tqdm(df_final.iterrows()):\n",
    "#     test_demo = df_final[df_final['ID'] == row['ID']]\n",
    "#     test_hist=df_final_hist[df_final_hist['ID'] == row['ID']]\n",
    "#     emi= cltv(test_demo,test_hist)\n",
    "#     if emi !=0:\n",
    "#         final_dict_dis[row['ID']] = emi \n",
    "#     else:\n",
    "#         final_dict_dis[row['ID']] = -9999"
   ]
  },
  {
   "cell_type": "code",
   "execution_count": null,
   "metadata": {},
   "outputs": [],
   "source": [
    "# final_dict_curr = {}\n",
    "# for index,row in tqdm(df_final.iterrows()):\n",
    "#     test_demo = df_final[df_final['ID'] == row['ID']]\n",
    "#     test_hist=df_final_hist[df_final_hist['ID'] == row['ID']]\n",
    "#     emi = current_bal(test_demo,test_hist)\n",
    "#     if emi !=0:\n",
    "#         final_dict_curr[row['ID']] = emi \n",
    "#     else:\n",
    "#         final_dict_curr[row['ID']] = -9999"
   ]
  },
  {
   "cell_type": "code",
   "execution_count": null,
   "metadata": {},
   "outputs": [],
   "source": [
    "# final_dict_acc = {}\n",
    "# for index,row in tqdm(df_final.iterrows()):\n",
    "#     test_demo = df_final[df_final['ID'] == row['ID']]\n",
    "#     test_hist=df_final_hist[df_final_hist['ID'] == row['ID']]\n",
    "#     accs_closed,accs_open,accs_other = check_accs_open_closed(test_demo,test_hist)\n",
    "#     final_dict_acc[row['ID']] = [accs_closed,accs_open,accs_other] "
   ]
  },
  {
   "cell_type": "code",
   "execution_count": null,
   "metadata": {},
   "outputs": [],
   "source": [
    "# df_approx_top = pd.DataFrame.from_dict(final_dict,orient='index',columns=['Approx_Days_to_top_up'])\n",
    "# df_foir = pd.DataFrame.from_dict(final_dict_foir,orient='index',columns=['Active_FOIR'])\n",
    "# df_dis_cltv = pd.DataFrame.from_dict(final_dict_dis,orient='index',columns=['Active_dis_cltv'])\n",
    "# df_curr_cltv = pd.DataFrame.from_dict(final_dict_curr,orient='index',columns=['Active_curr_cltv'])\n",
    "# df_acc = pd.DataFrame.from_dict(final_dict_acc,orient='index',columns=['Acc_closed','Acc_Open','Acc_other'])\n",
    "# df_acc.reset_index(inplace=True)\n",
    "# df_acc.rename(columns= {'index':'ID'},inplace=True)"
   ]
  },
  {
   "cell_type": "code",
   "execution_count": null,
   "metadata": {},
   "outputs": [],
   "source": [
    "# df_approx_top.reset_index(inplace=True)\n",
    "# df_foir.reset_index(inplace=True)\n",
    "# df_dis_cltv.reset_index(inplace=True)\n",
    "# df_curr_cltv.reset_index(inplace=True)"
   ]
  },
  {
   "cell_type": "code",
   "execution_count": null,
   "metadata": {},
   "outputs": [],
   "source": [
    "# df_approx_top.rename(columns= {'index':'ID'},inplace=True)\n",
    "# df_foir.rename(columns= {'index':'ID'},inplace=True)\n",
    "# # df_dis_cltv.rename(columns= {'index':'ID'},inplace=True)\n",
    "# df_curr_cltv.rename(columns= {'index':'ID'},inplace=True)"
   ]
  },
  {
   "cell_type": "code",
   "execution_count": null,
   "metadata": {},
   "outputs": [],
   "source": [
    "# df_foir['Active_FOIR'].replace({-9999:np.nan},inplace=True)\n",
    "# df_dis_cltv['Active_dis_cltv'].replace({-9999:np.nan},inplace=True)\n",
    "# df_curr_cltv['Active_curr_cltv'].replace({-9999:np.nan},inplace=True)"
   ]
  },
  {
   "cell_type": "code",
   "execution_count": null,
   "metadata": {},
   "outputs": [],
   "source": []
  },
  {
   "cell_type": "code",
   "execution_count": null,
   "metadata": {},
   "outputs": [],
   "source": [
    "def get_avg_dates_next_loans(dates):\n",
    "    if len(dates.tolist())>1:\n",
    "        final_list = []\n",
    "        dates = dates.tolist()\n",
    "        for i in range(1,len(dates)):\n",
    "            x = dates[i] - dates[i-1]\n",
    "            final_list.append(x.days)\n",
    "        return np.mean(final_list)\n",
    "    else:\n",
    "        return 0\n",
    "\n",
    "def get_next_loan_dates(dates):\n",
    "    if len(dates.tolist())>1:\n",
    "        final_list = []\n",
    "        dates = dates.tolist()\n",
    "        for i in range(1,len(dates)):\n",
    "            x = dates[i] - dates[i-1]\n",
    "            final_list.append((x.days/30.71))\n",
    "        return final_list\n",
    "    else:\n",
    "        return 0\n",
    "\n",
    "def calculate_month_less_than_12(timedifference):\n",
    "    if timedifference < 12 :\n",
    "        value=1\n",
    "    else:\n",
    "        value=0\n",
    "    return value\n",
    "def calculate_between_12_18(timedifference):\n",
    "    if (timedifference > 12) & (timedifference < 18) :\n",
    "        value=1\n",
    "    else:\n",
    "        value=0\n",
    "    return value\n",
    "def calculate_between_18_24(timedifference):\n",
    "    if (timedifference >= 18) & (timedifference < 24) :\n",
    "        value=1\n",
    "    else:\n",
    "        value=0\n",
    "    return value\n",
    "def calculate_between_24_30(timedifference):\n",
    "    if (timedifference >= 24) & (timedifference < 30) :\n",
    "        value=1\n",
    "    else:\n",
    "        value=0\n",
    "    return value\n",
    "def calculate_between_30_36(timedifference):\n",
    "    if (timedifference >= 30) & (timedifference < 36) :\n",
    "        value=1\n",
    "    else:\n",
    "        value=0\n",
    "    return value\n",
    "def calculate_between_36_48(timedifference):\n",
    "    if (timedifference >= 36) & (timedifference <= 48) :\n",
    "        value=1\n",
    "    else:\n",
    "        value=0\n",
    "    return value\n",
    "def calculate_greater_than_48(timedifference):\n",
    "    if timedifference > 48 :\n",
    "        value=1\n",
    "    else:\n",
    "        value=0\n",
    "    return value"
   ]
  },
  {
   "cell_type": "code",
   "execution_count": null,
   "metadata": {},
   "outputs": [],
   "source": [
    "def calculate_month_less_than_12_amts(timedifference,i):\n",
    "    if timedifference < 12 :\n",
    "        value=i\n",
    "    else:\n",
    "        value=np.nan\n",
    "    return value\n",
    "def calculate_between_12_18_amts(timedifference,i):\n",
    "    if (timedifference > 12) & (timedifference < 18) :\n",
    "        value=i\n",
    "    else:\n",
    "        value=np.nan\n",
    "    return value\n",
    "def calculate_between_18_24_amts(timedifference,i):\n",
    "    if (timedifference >= 18) & (timedifference < 24) :\n",
    "        value=i\n",
    "    else:\n",
    "        value=np.nan\n",
    "    return value\n",
    "def calculate_between_24_30_amts(timedifference,i):\n",
    "    if (timedifference >= 24) & (timedifference < 30) :\n",
    "        value=i\n",
    "    else:\n",
    "        value=np.nan\n",
    "    return value\n",
    "def calculate_between_30_36_amts(timedifference,i):\n",
    "    if (timedifference >= 30) & (timedifference < 36) :\n",
    "        value=i\n",
    "    else:\n",
    "        value=np.nan\n",
    "    return value\n",
    "def calculate_between_36_48_amts(timedifference,i):\n",
    "    if (timedifference >= 36) & (timedifference <= 48) :\n",
    "        value=i\n",
    "    else:\n",
    "        value=np.nan\n",
    "    return value\n",
    "def calculate_greater_than_48_amts(timedifference,i):\n",
    "    if timedifference > 48 :\n",
    "        value=i\n",
    "    else:\n",
    "        value=np.nan\n",
    "    return value"
   ]
  },
  {
   "cell_type": "code",
   "execution_count": null,
   "metadata": {},
   "outputs": [],
   "source": [
    "def calculate_tdf(timedifference,status,diff_1,diff_2):\n",
    "    if (timedifference >= diff_1 and timedifference < diff_2) and (status == True):\n",
    "        value = 1\n",
    "    else:\n",
    "        value = 0\n",
    "    return value"
   ]
  },
  {
   "cell_type": "code",
   "execution_count": null,
   "metadata": {},
   "outputs": [],
   "source": [
    "df_final_hist['SELF-INDICATOR']"
   ]
  },
  {
   "cell_type": "code",
   "execution_count": null,
   "metadata": {},
   "outputs": [],
   "source": [
    "df_final_hist['Time_Difference']=(df_final_hist['DISBURSED-DT']-df_final_hist['DisbursalDate']).dt.days\n",
    "df_final_hist['Time_Difference']=df_final_hist['Time_Difference']/30.71\n",
    "df_final_hist['Less_than_12_month']=df_final_hist.apply(lambda x: calculate_month_less_than_12(x['Time_Difference']),axis=1)\n",
    "df_final_hist['12-18']=df_final_hist.apply(lambda x: calculate_between_12_18(x['Time_Difference']),axis=1)\n",
    "df_final_hist['18-24']=df_final_hist.apply(lambda x: calculate_between_18_24(x['Time_Difference']),axis=1)\n",
    "df_final_hist['24-30']=df_final_hist.apply(lambda x: calculate_between_24_30(x['Time_Difference']),axis=1)\n",
    "df_final_hist['30-36']=df_final_hist.apply(lambda x: calculate_between_30_36(x['Time_Difference']),axis=1)\n",
    "df_final_hist['36-48']=df_final_hist.apply(lambda x: calculate_between_36_48(x['Time_Difference']),axis=1)\n",
    "df_final_hist['48_plus']=df_final_hist.apply(lambda x:calculate_greater_than_48(x['Time_Difference']),axis=1)\n",
    "\n",
    "\n",
    "df_final_hist['Less_than_12_month']=df_final_hist.groupby('ID')['Less_than_12_month'].transform('max')\n",
    "df_final_hist['12-18']=df_final_hist.groupby('ID')['12-18'].transform('max')\n",
    "df_final_hist['18-24']=df_final_hist.groupby('ID')['18-24'].transform('max')\n",
    "df_final_hist['24-30']=df_final_hist.groupby('ID')['24-30'].transform('max')\n",
    "df_final_hist['30-36']=df_final_hist.groupby('ID')['36-48'].transform('max')\n",
    "df_final_hist['36-48']=df_final_hist.groupby('ID')['36-48'].transform('max')\n",
    "df_final_hist['48_plus']=df_final_hist.groupby('ID')['48_plus'].transform('max')\n",
    "\n",
    "\n",
    "df_final_hist['Less_than_12_month_amts']=df_final_hist.apply(lambda x: calculate_month_less_than_12_amts(x['Time_Difference'],x['DISBURSED-AMT/HIGH CREDIT']),axis=1)\n",
    "df_final_hist['12-18_amts']=df_final_hist.apply(lambda x: calculate_between_12_18_amts(x['Time_Difference'],x['DISBURSED-AMT/HIGH CREDIT']),axis=1)\n",
    "df_final_hist['18-24_amts']=df_final_hist.apply(lambda x: calculate_between_18_24_amts(x['Time_Difference'],x['DISBURSED-AMT/HIGH CREDIT']),axis=1)\n",
    "df_final_hist['24-30_amts']=df_final_hist.apply(lambda x: calculate_between_24_30_amts(x['Time_Difference'],x['DISBURSED-AMT/HIGH CREDIT']),axis=1)\n",
    "df_final_hist['30-36_amts']=df_final_hist.apply(lambda x: calculate_between_30_36_amts(x['Time_Difference'],x['DISBURSED-AMT/HIGH CREDIT']),axis=1)\n",
    "df_final_hist['36-48_amts']=df_final_hist.apply(lambda x: calculate_between_36_48_amts(x['Time_Difference'],x['DISBURSED-AMT/HIGH CREDIT']),axis=1)\n",
    "df_final_hist['48_plus_amts']=df_final_hist.apply(lambda x:calculate_greater_than_48_amts(x['Time_Difference'],x['DISBURSED-AMT/HIGH CREDIT']),axis=1)\n",
    "\n",
    "\n"
   ]
  },
  {
   "cell_type": "code",
   "execution_count": null,
   "metadata": {},
   "outputs": [],
   "source": [
    "# df_final_hist['SELF-INDICATOR']"
   ]
  },
  {
   "cell_type": "code",
   "execution_count": null,
   "metadata": {},
   "outputs": [],
   "source": [
    "df_final_hist['Less_than_12_month_amts']=df_final_hist.groupby('ID')['Less_than_12_month_amts'].transform('mean')\n",
    "df_final_hist['12-18_amts']=df_final_hist.groupby('ID')['12-18_amts'].transform('mean')\n",
    "df_final_hist['18-24_amts']=df_final_hist.groupby('ID')['18-24_amts'].transform('mean')\n",
    "df_final_hist['24-30_amts']=df_final_hist.groupby('ID')['24-30_amts'].transform('mean')\n",
    "df_final_hist['30-36_amts']=df_final_hist.groupby('ID')['30-36_amts'].transform('mean')\n",
    "df_final_hist['36-48_amts']=df_final_hist.groupby('ID')['36-48_amts'].transform('mean')\n",
    "df_final_hist['48_plus_amts']=df_final_hist.groupby('ID')['48_plus_amts'].transform('mean')"
   ]
  },
  {
   "cell_type": "code",
   "execution_count": null,
   "metadata": {},
   "outputs": [],
   "source": []
  },
  {
   "cell_type": "code",
   "execution_count": null,
   "metadata": {},
   "outputs": [],
   "source": [
    "cols_join = ['ID','DISBURSED-DT','Less_than_12_month','12-18','18-24','24-30','30-36','36-48','48_plus','Less_than_12_month_amts',\n",
    "        '12-18_amts','18-24_amts','24-30_amts','30-36_amts','36-48_amts','48_plus_amts']"
   ]
  },
  {
   "cell_type": "code",
   "execution_count": null,
   "metadata": {},
   "outputs": [],
   "source": [
    "df_final = pd.merge(df_final,df_final_hist[cols_join],left_on=['ID','DisbursalDate'],right_on=['ID','DISBURSED-DT'],how='left')"
   ]
  },
  {
   "cell_type": "code",
   "execution_count": null,
   "metadata": {},
   "outputs": [],
   "source": [
    "df_final.drop_duplicates(inplace=True)"
   ]
  },
  {
   "cell_type": "code",
   "execution_count": null,
   "metadata": {},
   "outputs": [],
   "source": [
    "df_final[df_final.columns[-7:]]"
   ]
  },
  {
   "cell_type": "code",
   "execution_count": null,
   "metadata": {},
   "outputs": [],
   "source": [
    "loans_next_avg = df_final_hist.groupby('ID').agg({'DISBURSED-DT':[get_avg_dates_next_loans]})\n",
    "loans_next_avg.columns = ['_loans_'.join(x) for x in loans_next_avg.columns]\n",
    "loans_next_avg.reset_index(inplace=True)\n",
    " "
   ]
  },
  {
   "cell_type": "code",
   "execution_count": null,
   "metadata": {},
   "outputs": [],
   "source": [
    "loans_next = df_final_hist.groupby('ID').agg({'DISBURSED-DT':[get_next_loan_dates]})\n",
    "loans_next.columns = ['_loans_'.join(x) for x in loans_next]\n",
    "loans_next.reset_index(inplace=True)"
   ]
  },
  {
   "cell_type": "code",
   "execution_count": null,
   "metadata": {},
   "outputs": [],
   "source": [
    "df_approx_top=pd.read_csv('Data_Future/df_approx_top.csv')\n",
    "df_foir= pd.read_csv('Data_Future/df_foir.csv')\n",
    "df_dis_cltv=pd.read_csv('Data_Future/df_dis_cltv.csv')\n",
    "df_curr_cltv=pd.read_csv('Data_Future/df_curr_cltv.csv')\n",
    "df_acc = pd.read_csv('Data_Future/df_acc.csv')"
   ]
  },
  {
   "cell_type": "code",
   "execution_count": null,
   "metadata": {},
   "outputs": [],
   "source": [
    "df_final = pd.merge(df_final,loans_next_avg,on='ID')\n",
    "df_final = pd.merge(df_final,loans_next,on='ID')\n",
    "df_final = pd.merge(df_final,df_approx_top,on='ID')\n",
    "df_final = pd.merge(df_final,df_foir,on='ID')"
   ]
  },
  {
   "cell_type": "code",
   "execution_count": null,
   "metadata": {},
   "outputs": [],
   "source": [
    "df_final = pd.merge(df_final,df_dis_cltv,on='ID')\n",
    "df_final = pd.merge(df_final,df_curr_cltv,on='ID')\n",
    "df_final = pd.merge(df_final,df_acc,on='ID')"
   ]
  },
  {
   "cell_type": "code",
   "execution_count": null,
   "metadata": {},
   "outputs": [],
   "source": [
    "df_final['Active_FOIR_Actual'] = (df_final['Active_FOIR']/df_final['MonthlyIncome'])*100\n",
    "df_final['Approx_Days_to_top_up_Month'] = df_final['Approx_Days_to_top_up']/30.71\n",
    "df_final['Active_cltv_dis_act'] =np.abs((df_final['Active_dis_cltv']/df_final['AssetCost']))*100\n",
    "df_final['Active_cltv_current_act'] =np.abs((df_final['Active_curr_cltv']/df_final['AssetCost']))*100"
   ]
  },
  {
   "cell_type": "code",
   "execution_count": null,
   "metadata": {},
   "outputs": [],
   "source": [
    "df_final['Approx_Days_to_top_up'].replace({0:np.nan},inplace=True)\n",
    "df_final['Approx_Days_to_top_up_Month'].replace({0:np.nan},inplace=True)"
   ]
  },
  {
   "cell_type": "code",
   "execution_count": null,
   "metadata": {},
   "outputs": [],
   "source": [
    "df_final['Active_FOIR'].value_counts()"
   ]
  },
  {
   "cell_type": "code",
   "execution_count": null,
   "metadata": {},
   "outputs": [],
   "source": [
    "df_final[df_final.columns[-20:]]"
   ]
  },
  {
   "cell_type": "code",
   "execution_count": null,
   "metadata": {},
   "outputs": [],
   "source": [
    "X_train = df_final[df_final['Top-up Month'].notnull()]\n",
    "y_train = X_train['Top-up Month']\n",
    "df_test = df_final[df_final['Top-up Month'].isnull()]\n",
    "X_train.drop(['Top-up Month'],axis=1,inplace=True)\n",
    "df_test.drop(['Top-up Month'],axis=1,inplace=True)"
   ]
  },
  {
   "cell_type": "code",
   "execution_count": null,
   "metadata": {},
   "outputs": [],
   "source": [
    "date_cols = ['DisbursalDate','MaturityDAte','AuthDate','ID','AssetID','DisbursalDate_ID_join','DISBURSED-DT_ID_join',\n",
    "             'DISBURSED-DT_loans_get_next_loan_dates','DISBURSED-DT']"
   ]
  },
  {
   "cell_type": "code",
   "execution_count": null,
   "metadata": {},
   "outputs": [],
   "source": [
    "# param = {'num_leaves': 64,\n",
    "#          'min_data_in_leaf': 5, \n",
    "#          'max_depth': -1,\n",
    "#          'learning_rate': 0.1,\n",
    "#          \"boosting\": \"gbdt\",\n",
    "#          \"feature_fraction\": 0.405,\n",
    "#          \"lambda_l1\": 1,\n",
    "#          \"lambda_l2\": 4,\n",
    "#          \"verbosity\": -1,\n",
    "#          'two_round': True,\n",
    "#          'cat_smooth': 0,\n",
    "#           'cat_l2': 1}"
   ]
  },
  {
   "cell_type": "code",
   "execution_count": null,
   "metadata": {
    "scrolled": true
   },
   "outputs": [],
   "source": [
    "n_folds=5\n",
    "folds=StratifiedKFold(n_splits=n_folds,shuffle=True,random_state=22)\n",
    "avg_cv = []\n",
    "final_preds = np.zeros((len(df_test), 7))\n",
    "final_preds_imp = pd.DataFrame()\n",
    "oof_preds = np.zeros((len(X_train),7))\n",
    "for fold_, (trn_idx, val_idx) in enumerate(folds.split(X_train.values, y_train.values)):\n",
    "        print(\"Fold {}\".format(fold_))\n",
    "        X_trn,y_trn = X_train.drop(date_cols,axis=1).iloc[trn_idx],y_train.iloc[trn_idx]\n",
    "        X_val,y_val = X_train.drop(date_cols,axis=1).iloc[val_idx],y_train.iloc[val_idx]\n",
    "        clf = lgb.LGBMClassifier(random_state=22,n_jobs=-1,n_estimators=5000,metric='custom',class_weight='balanced')\n",
    "#         clf = XGBClassifier(random_state=22,n_jobs=-1,n_estimators=2000,class_weight='balanced')\n",
    "#         clf.fit(X_trn,y_trn,eval_set=[(X_val,y_val)],early_stopping_rounds=100)\n",
    "        clf.fit(X_trn, y_trn,eval_metric=evaluate_macroF1_lgb,eval_set=[(X_val,y_val)],verbose=False,early_stopping_rounds=100)\n",
    "        \n",
    "#         imp = importances(clf,X_val,y_val)\n",
    "#         imp.reset_index(inplace=True)\n",
    "#         final_preds_imp['Feature'] = X_val.columns\n",
    "#         imp.rename(columns = {'Importance':f'importances{fold_}'},inplace=True)\n",
    "#         final_preds_imp = pd.merge(final_preds_imp,imp,on='Feature')\n",
    "\n",
    "        avg_cv.append(f1_score(y_pred=clf.predict(X_val),y_true=y_val,average='macro'))\n",
    "        print(f'CV_FOLD_{fold_} : {avg_cv[fold_]}')\n",
    "        final_preds += clf.predict_proba(df_test.drop(date_cols,axis=1))\n",
    "\n",
    "final_preds = final_preds/n_folds\n",
    "print(sum(avg_cv)/n_folds)"
   ]
  },
  {
   "cell_type": "code",
   "execution_count": null,
   "metadata": {},
   "outputs": [],
   "source": []
  },
  {
   "cell_type": "code",
   "execution_count": null,
   "metadata": {},
   "outputs": [],
   "source": [
    "df_test['Top-up Month'] = [np.argmax(x) for x in final_preds]\n",
    "df_test['Top-up Month'].value_counts()"
   ]
  },
  {
   "cell_type": "code",
   "execution_count": null,
   "metadata": {},
   "outputs": [],
   "source": [
    "top_up_dict_rev = {0:'No Top-up Service',\n",
    " 6:' > 48 Months',\n",
    " 5:'36-48 Months',\n",
    " 3:'24-30 Months',\n",
    " 4:'30-36 Months',\n",
    " 2:'18-24 Months',\n",
    " 1:'12-18 Months'}"
   ]
  },
  {
   "cell_type": "code",
   "execution_count": null,
   "metadata": {},
   "outputs": [],
   "source": [
    "df_test['Top-up Month'] = df_test['Top-up Month'].map(top_up_dict_rev)\n",
    "df_test[['ID','Top-up Month']].to_csv('Data_Future/Future_data_preds.csv',index=False)"
   ]
  },
  {
   "cell_type": "code",
   "execution_count": null,
   "metadata": {},
   "outputs": [],
   "source": []
  },
  {
   "cell_type": "code",
   "execution_count": null,
   "metadata": {},
   "outputs": [],
   "source": []
  }
 ],
 "metadata": {
  "kernelspec": {
   "display_name": "Python 3",
   "language": "python",
   "name": "python3"
  },
  "language_info": {
   "codemirror_mode": {
    "name": "ipython",
    "version": 3
   },
   "file_extension": ".py",
   "mimetype": "text/x-python",
   "name": "python",
   "nbconvert_exporter": "python",
   "pygments_lexer": "ipython3",
   "version": "3.8.5"
  }
 },
 "nbformat": 4,
 "nbformat_minor": 4
}
